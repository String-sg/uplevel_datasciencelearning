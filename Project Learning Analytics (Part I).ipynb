{
 "cells": [
  {
   "cell_type": "markdown",
   "metadata": {},
   "source": [
    "# <font color = \"red\">[READ THIS] Before you start</font>\n",
    "Welcome to UpLevel DIY projects! In this series, you're challenged to independently work (with our guidance) with data that you will collect to UpLevel yourself. \n",
    "\n",
    "We hope you're excited to embark on this adventure.\n",
    "### Warning:\n",
    "This isn't just any coding course or programmes, where you receive helper code as you move from one code block to another. \n",
    "\n",
    "This is when things get <em>real</em>.\n",
    "\n",
    "In this project, you will receive instructions to execute a task along with an intended outcome. Most importantly, we will provide you with directions you can go to, to pick up code independently and implement it in this notebook.\n",
    "\n",
    "Don't worry though, we'll be dropping lots of resources you can consult and these readings will contain everything you need to succeed. You can also perform independent research to find answers independently. You just have to read closely and pick out the parts that make most sense. \n",
    "\n",
    "<strong>We make you do this not because we're lazy bastards but because being able to indepedently find code is a highly underrated skill and that's something all companies look out for.</strong>\n",
    "\n",
    "If you're really stuck and are on the verge of giving up, we gotchu fam. Head on over to https://www.facebook.com/UpLevelSG/ and post your questions there. \n",
    "\n",
    "### What we'll be doing:\n",
    "In this project, we will do the following:\n",
    "\n",
    "1. Download learning analytics data from OULAD and preview them (Part I)\n",
    "2. Perform data cleaning (Part II)\n",
    "3. Perform exploratory data analysis (Part III)\n",
    "4. Engineer new features (Part IV)\n",
    "5. Apply machine learning techniques to train a model to predict student dropout (Part V)\n",
    "6. Perform hyperparameter tuning to push model performance (Part V)\n",
    "\n",
    "### Expectations:\n",
    "We're not going to sugarcoat it - it'll be challenging at times. You have to promise to put in the time and effort to UpLevel yourself. \n",
    "\n",
    "But we promise you that it'll ultimately be fun and rewarding, and you'll come out of it stronger and more confident than before."
   ]
  },
  {
   "cell_type": "markdown",
   "metadata": {},
   "source": [
    "<div style=\"background-color: #78E8A3; padding: 20px\">\n",
    "<h3>Project Scenario</h3>\n",
    "<p>You're an educator who is passionate about teaching learners.</p>\n",
    "<p>However, students often drop off during their studies, and you're at a loss on what to do because you want to anticipate student dropouts before they happen.</p> \n",
    "<p>You recall that you have years' of data kept, and decide to use machine learning to predict student success and failure.</p>\n",
    "<p>In this project, you will use machine learning to train a a model that can anticipate student dropout/failure in the program so you can help them in advance.</p> \n",
    "</div>"
   ]
  },
  {
   "cell_type": "markdown",
   "metadata": {},
   "source": [
    "### Step 1: Download the dataset from OULAD\n",
    "Real education data is hard to come by, but fortunately for us we have access to two years' worth of online learning data, generously donated by the Open Universiy Learning Analytics Dataset (OULAD).\n",
    "\n",
    "Download the dataset <a href = 'https://analyse.kmi.open.ac.uk/open_dataset/download'>here</a>, or <a href = 'https://uplevelsg.s3-ap-southeast-1.amazonaws.com/ProjectOULAD/anonymisedData.zip'>here</a> the server takes too long to respond."
   ]
  },
  {
   "cell_type": "markdown",
   "metadata": {},
   "source": [
    "### Step 2: Get acquainted with the data dictionary\n",
    "Before we embark on any analysis whatsoever, it's important to understand what data you're working with.\n",
    "\n",
    "After you unzip the zip file in your directory, you will find the following files:\n",
    "1. assessments.csv\n",
    "2. courses.csv\n",
    "3. studentAssessment.csv\n",
    "4. studentInfo.csv\n",
    "5. studentRegistration.csv\n",
    "6. studentVle.csv\n",
    "7. vle.csv\n",
    "\n",
    "For more information on the columns found within these CSVs, the data dictionary has been provided for reference <a href = 'https://analyse.kmi.open.ac.uk/open_dataset'>here</a>.\n",
    "\n",
    "### Step 3: Import pandas \n",
    "We will start with importing:\n",
    "1. pandas as CSV"
   ]
  },
  {
   "cell_type": "code",
   "execution_count": null,
   "metadata": {},
   "outputs": [],
   "source": [
    "# Step 3: Import pandas"
   ]
  },
  {
   "cell_type": "markdown",
   "metadata": {},
   "source": [
    "### Step 4: Look at the CSV files\n",
    "Now that we've gotten a better idea of the CSVs' column data, it's time to take a look at the individual CSVs. You can either choose to look using Excel, or we read the CSVs into DataFrames in here.\n",
    "\n",
    "We will explore them for real in Part III: Exploratory Data Analysis."
   ]
  },
  {
   "cell_type": "code",
   "execution_count": null,
   "metadata": {
    "scrolled": true
   },
   "outputs": [],
   "source": [
    "# Step 4a: Read assessments.csv"
   ]
  },
  {
   "cell_type": "code",
   "execution_count": null,
   "metadata": {
    "scrolled": false
   },
   "outputs": [],
   "source": [
    "# Step 4b: Read courses.csv"
   ]
  },
  {
   "cell_type": "code",
   "execution_count": null,
   "metadata": {},
   "outputs": [],
   "source": [
    "# Step 4c: Read studentAssessment.csv"
   ]
  },
  {
   "cell_type": "code",
   "execution_count": null,
   "metadata": {},
   "outputs": [],
   "source": [
    "# Step 4d: Read studentInfo.csv"
   ]
  },
  {
   "cell_type": "code",
   "execution_count": null,
   "metadata": {},
   "outputs": [],
   "source": [
    "# Step 4c: Read studentRegistration.csv"
   ]
  },
  {
   "cell_type": "code",
   "execution_count": null,
   "metadata": {},
   "outputs": [],
   "source": [
    "# Step 4c: Read studentVle.csv"
   ]
  },
  {
   "cell_type": "code",
   "execution_count": null,
   "metadata": {},
   "outputs": [],
   "source": [
    "# Step 4c: Read Vle.csv"
   ]
  },
  {
   "cell_type": "markdown",
   "metadata": {},
   "source": [
    "### End of Part I\n",
    "That's the end of Part I for now - we've just taken a quick look at our CSVs that we just unzipped. \n",
    "\n",
    "From the CSVs, we will focus on three CSVs:\n",
    "1. studentVle.csv\n",
    "2. studentAssessment.csv\n",
    "3. studentInfo.csv\n",
    "\n",
    "In the subsequent Part, we will combined parts of the CSVs that we have into more meaningful and interesting data to work with. "
   ]
  }
 ],
 "metadata": {
  "kernelspec": {
   "display_name": "Python 3",
   "language": "python",
   "name": "python3"
  },
  "language_info": {
   "codemirror_mode": {
    "name": "ipython",
    "version": 3
   },
   "file_extension": ".py",
   "mimetype": "text/x-python",
   "name": "python",
   "nbconvert_exporter": "python",
   "pygments_lexer": "ipython3",
   "version": "3.8.3"
  }
 },
 "nbformat": 4,
 "nbformat_minor": 4
}
