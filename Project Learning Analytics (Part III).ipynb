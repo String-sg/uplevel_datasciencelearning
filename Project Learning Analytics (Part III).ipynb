{
 "cells": [
  {
   "cell_type": "markdown",
   "metadata": {},
   "source": [
    "# Introduction\n",
    "\n",
    "In Part II, we cleaned and merged the data that we got from Part I. We are now going to do some exploratory data analysis! \n",
    "\n",
    "Visualization helps with building intuition around our data and identifies possible outliers or anamolies. \n",
    "\n",
    "In this notebook, you will do the following:\n",
    "1. Import pandas and data vizualization libraries\n",
    "2. Visualize the column data\n",
    "    - univariate analysis\n",
    "    - bivariate analysis\n",
    "\n",
    "Useful readings on visualization: \n",
    "<a href = \"https://towardsdatascience.com/introduction-to-data-visualization-in-python-89a54c97fbed\">Introduction to Data Visualization in Python</a> (run it in Incognito Mode if you face the paywall)\n",
    "\n",
    "We highly recommend this reading if you're new to data visualization.\n",
    "\n",
    "### Step 1: Import the following libraries\n",
    "- pandas\n",
    "- matplotlib.pyplot as plt\n",
    "- seaborn as sns"
   ]
  },
  {
   "cell_type": "code",
   "execution_count": null,
   "metadata": {},
   "outputs": [],
   "source": [
    "# Step 1: Import the following libraries"
   ]
  },
  {
   "cell_type": "markdown",
   "metadata": {},
   "source": [
    "### Step 2: Import the CSV from Part II Step 18\n",
    "We will import the CSV that we got from Part II, i.e. the CSV containing the merged data from studentInfo, studentAssessment, and studentVle. "
   ]
  },
  {
   "cell_type": "code",
   "execution_count": null,
   "metadata": {
    "scrolled": false
   },
   "outputs": [],
   "source": [
    "# Step 2: Read the CSV from Part II"
   ]
  },
  {
   "attachments": {},
   "cell_type": "markdown",
   "metadata": {},
   "source": [
    "## Univariate analysis (UA)\n",
    "In this section, we will perform univariate analysis. We'll examine each column with either a histogram or a barplot. \n",
    "\n",
    "For categorical values, we will first get a frequent count followed by plotting of the barplot.\n",
    "\n",
    "<strong>Hint: Google \"pandas column barplot frequency\"</strong>\n",
    "\n",
    "### Step 3: Perform UA on 'code_module' with barplot\n",
    "Let's start with plotting the frequency of 'code_module' with a barplot. This will tell us how many students are enrolled in the different modules, i.e. AAA, BBB, ... , GGG. \n",
    "\n",
    "There are two different ways to do it, i.e. sort, or not sorted. If you like a challenge, consider sorting the index so that you can get a plot that is sorted alphabetically rather than based on frequency. \n",
    "\n",
    "![FirstBarplot.png](https://uplevelsg.s3-ap-southeast-1.amazonaws.com/ProjectLearningAnalytics/FirstBarplot.png)"
   ]
  },
  {
   "cell_type": "code",
   "execution_count": null,
   "metadata": {},
   "outputs": [],
   "source": [
    "# Step 3: Plot a barplot for 'code_module'"
   ]
  },
  {
   "cell_type": "markdown",
   "metadata": {},
   "source": [
    "### Step 4: Perform UA on 'gender' with barplot\n",
    "Let's take a look at the gender makeup in the OULAD dataset.\n",
    "\n",
    "What can you say about the proportion of males (M) vs females (F)?"
   ]
  },
  {
   "cell_type": "code",
   "execution_count": null,
   "metadata": {},
   "outputs": [],
   "source": [
    "# Step 4: Plot a barplot for 'gender'"
   ]
  },
  {
   "cell_type": "markdown",
   "metadata": {},
   "source": [
    "### Step 5: Perform UA on 'region' with a horizontal barplot\n",
    "Next up, let's see where our students are coming from.\n",
    "\n",
    "The names might be long, so consider a horizontal barplot."
   ]
  },
  {
   "cell_type": "code",
   "execution_count": null,
   "metadata": {},
   "outputs": [],
   "source": [
    "# Step 5: Plot a barplot for 'region'"
   ]
  },
  {
   "cell_type": "markdown",
   "metadata": {},
   "source": [
    "### Step 6: Perform UA on 'highest_qualification' with a horizontal barplot\n",
    "How about the students' qualifications? The Open University program takes in students from all walks of life so it'd be interesting to see where all of these students come from, academically. "
   ]
  },
  {
   "cell_type": "code",
   "execution_count": null,
   "metadata": {},
   "outputs": [],
   "source": [
    "# Step 6: Plot a barplot for 'highest_qualification'"
   ]
  },
  {
   "cell_type": "markdown",
   "metadata": {},
   "source": [
    "### Step 7: Perform UA on 'imd_band' with a horizontal barplot\n",
    "IMD, which stands for Index of Multiple Deprivation, is an index that measure deprivation (a measure of poverty) of small areas within the UK. \n",
    "\n",
    "The higher the value of the imd_band, the better the living conditions.\n",
    "\n",
    "Similarly, try sorting the index of the value_count first before plotting. "
   ]
  },
  {
   "cell_type": "code",
   "execution_count": null,
   "metadata": {},
   "outputs": [],
   "source": [
    "# Step 7: Plot a barplot for 'imd_band'"
   ]
  },
  {
   "cell_type": "markdown",
   "metadata": {},
   "source": [
    "### Step 8: Perform UA on 'age_band' with a barplot\n",
    "Plot a barplot to look at the distribution of age in the dataset. "
   ]
  },
  {
   "cell_type": "code",
   "execution_count": null,
   "metadata": {},
   "outputs": [],
   "source": [
    "# Step 8: Plot a barplot for 'age_band'"
   ]
  },
  {
   "cell_type": "markdown",
   "metadata": {},
   "source": [
    "Having '<' and '=' in the column name is not recommended, since models belong to certain libraries are unable to accept those. We will make a mental note to fix this in Part IV. \n",
    "\n",
    "### Step 9: Perform UA on 'num_of_previous_attempts' with a value count\n",
    "No need to visualize the column data, just tabulate the frequency of the values in this column."
   ]
  },
  {
   "cell_type": "code",
   "execution_count": null,
   "metadata": {},
   "outputs": [],
   "source": [
    "# Step 9: Count the values in the num_of_previous_attempts column"
   ]
  },
  {
   "cell_type": "markdown",
   "metadata": {},
   "source": [
    "### Step 10: Perform UA on 'studied_credits' with a histogram\n",
    "Let's identify the distribution on the number of credits that students take in the dataset. "
   ]
  },
  {
   "cell_type": "code",
   "execution_count": null,
   "metadata": {},
   "outputs": [],
   "source": [
    "# Step 10: Plot a histogram for 'studied_credits'"
   ]
  },
  {
   "cell_type": "markdown",
   "metadata": {},
   "source": [
    "### Step 11: Perform UA on 'disability' with a barplot\n",
    "How many students declared a disability? Let's find out with a barplot."
   ]
  },
  {
   "cell_type": "code",
   "execution_count": null,
   "metadata": {},
   "outputs": [],
   "source": [
    "# Step 11: Plot a barplot for 'disability'"
   ]
  },
  {
   "cell_type": "markdown",
   "metadata": {},
   "source": [
    "### Step 12: Perform UA on 'final_result' with a barplot\n",
    "This is an important step since 'final_result' is our dependent variable in this dataset."
   ]
  },
  {
   "cell_type": "code",
   "execution_count": null,
   "metadata": {},
   "outputs": [],
   "source": [
    "# Step 12: Plot a barplot for 'final_result'"
   ]
  },
  {
   "cell_type": "markdown",
   "metadata": {},
   "source": [
    "Looks like there are four different kinds of outcomes for students in this program - we'll also keep this in mind later on in Part IV.\n",
    "\n",
    "### Step 13: Perform UA on 'sum_click' with a histogram\n",
    "Let's see how our students fare in terms of interacting with the VLE."
   ]
  },
  {
   "cell_type": "code",
   "execution_count": null,
   "metadata": {},
   "outputs": [],
   "source": [
    "# Step 13: Plot a histogram for 'sum_click'"
   ]
  },
  {
   "cell_type": "markdown",
   "metadata": {},
   "source": [
    "### Step 14: Perform UA on 'mean' with a histogram\n",
    "What is the distribution of average scores of each student in the dataset?"
   ]
  },
  {
   "cell_type": "code",
   "execution_count": null,
   "metadata": {},
   "outputs": [],
   "source": [
    "# Step 14: Plot a histogram for 'mean'"
   ]
  },
  {
   "cell_type": "markdown",
   "metadata": {},
   "source": [
    "### Step 15: Perform UA on 'max' with a histogram"
   ]
  },
  {
   "cell_type": "code",
   "execution_count": null,
   "metadata": {},
   "outputs": [],
   "source": [
    "# Step 15: Plot a histogram for 'max'"
   ]
  },
  {
   "cell_type": "markdown",
   "metadata": {},
   "source": [
    "### Step 16: Perform UA on 'min' with a histogram"
   ]
  },
  {
   "cell_type": "code",
   "execution_count": null,
   "metadata": {},
   "outputs": [],
   "source": [
    "# Step 16: Plot a histogram for 'min'"
   ]
  },
  {
   "cell_type": "markdown",
   "metadata": {},
   "source": [
    "## Bivariate Analysis (BA)\n",
    "Next up, bivariate analysis. In univariate analysis, we looked at understanding each column by themselves. \n",
    "\n",
    "In this section, we will take a look at the relationship columns have with each other. Usually these relationships are between an indepedent variable, e.g., sum_clicks, and the dependent variable, i.e. final_result. \n",
    "\n",
    "\n",
    "Boxplots will be used a lot here, so head on up there if you need a refresher. In addition, we highly recommend using seaborn to plot boxplots. \n",
    "\n",
    "It's simply easier to plot boxplots with seaborn than with matplotlib.pyplot, but we won't stop you from practising."
   ]
  },
  {
   "cell_type": "markdown",
   "metadata": {},
   "source": [
    "### Step 17: Perform BA on sum_click vs final_result with boxplot\n",
    "<blockquote>Is there an observable relationship between student activity and the final result?</blockquote>\n",
    "Plot a boxplot to see if there's a pattern between sum_click and final results.\n",
    "\n",
    "Consider using the showfliers parameter as well because you're bound to encounter outliers that may obscure the boxplot."
   ]
  },
  {
   "cell_type": "code",
   "execution_count": null,
   "metadata": {},
   "outputs": [],
   "source": [
    "# Step 17: Plot sum_click vs final_result with boxplot"
   ]
  },
  {
   "cell_type": "markdown",
   "metadata": {},
   "source": [
    "What can you say about the relationship between final results and sum of student activity?\n",
    "\n",
    "### Step 18: Perform BA on mean vs final_result with boxplot\n",
    "<blockquote>Is there a correlation between the students' average results and the final result?</blockquote>\n",
    "Let's find out with a boxplot."
   ]
  },
  {
   "cell_type": "code",
   "execution_count": null,
   "metadata": {},
   "outputs": [],
   "source": [
    "# Step 18: Plot mean vs final_result with boxplot"
   ]
  },
  {
   "cell_type": "markdown",
   "metadata": {},
   "source": [
    "Looks like there is - keep this in mind for Part V.\n",
    "\n",
    "### Step 19: Perform BA on age_band vs final_result with countplot\n",
    "<blockquote>Can we split the final results based on age, and see if age affects outcomes?</blockquote>\n",
    "Plot using seaborn's countplot method, and consider the following parameters:\n",
    "\n",
    "1. data - your full DataFrame\n",
    "2. x - 'final_result'\n",
    "3. hue - 'age_band'\n",
    "\n",
    "Hue is useful if you want to compare two categorical columns together."
   ]
  },
  {
   "cell_type": "code",
   "execution_count": null,
   "metadata": {},
   "outputs": [],
   "source": [
    "# Step 19: Plot age_band vs final_result with countplot"
   ]
  },
  {
   "cell_type": "markdown",
   "metadata": {},
   "source": [
    "The answer to this is encouraging - hope you find out what it is! \n",
    "\n",
    "### Step 20: Perform BA on disability vs final_result with countplot\n",
    "<blockquote>Is there any observable relationship between the final results of the student, and whether he/she has a disability?</blockquote>\n",
    "It's an interesting question, so let's use a countplot to find out!"
   ]
  },
  {
   "cell_type": "code",
   "execution_count": null,
   "metadata": {},
   "outputs": [],
   "source": [
    "# Step 20: Plot disability vs final_result with countplot"
   ]
  },
  {
   "cell_type": "markdown",
   "metadata": {},
   "source": [
    "The answer to this is encouraging - hope you find out what it is! \n",
    "\n",
    "### Step 21: Perform BA on imd_band vs final_result with countplot\n",
    "<blockquote>Does the relative poverty of an area affect the outcome of a student's final result?</blockquote>\n",
    "The hypothesis would be that it's a yes - the IMD band does affect a student's final result.\n",
    "\n",
    "Plot a countplot to find out. You might have to increase the plot figure size to have a better look at the plot."
   ]
  },
  {
   "cell_type": "code",
   "execution_count": null,
   "metadata": {},
   "outputs": [],
   "source": [
    "# Step 21: Plot imd_band vs final_result with a countplot"
   ]
  },
  {
   "cell_type": "markdown",
   "metadata": {},
   "source": [
    "Try to interpret the colorful plot - the data does support our hypothesis :/\n",
    "\n",
    "### Step 22: Perform BA on gender vs final_result with countplot\n",
    "<blockquote>Can we identify students' final results based on their gender?</blockquote>\n",
    "Let's see if there is, with a countplot! "
   ]
  },
  {
   "cell_type": "code",
   "execution_count": null,
   "metadata": {},
   "outputs": [],
   "source": [
    "# Step 22: Plot gender vs final_result with a countplot"
   ]
  },
  {
   "cell_type": "markdown",
   "metadata": {},
   "source": [
    "### End of Part III\n",
    "That was a lot of plotting, but we hope you persevered and made the suggested plots. \n",
    "\n",
    "Telling a data story through visualization is important, and it's good to practice. \n",
    "\n",
    "Next up, we will prepare our data in Part IV so that it can be used for machine learning modelling in Part V."
   ]
  }
 ],
 "metadata": {
  "kernelspec": {
   "display_name": "Python 3",
   "language": "python",
   "name": "python3"
  },
  "language_info": {
   "codemirror_mode": {
    "name": "ipython",
    "version": 3
   },
   "file_extension": ".py",
   "mimetype": "text/x-python",
   "name": "python",
   "nbconvert_exporter": "python",
   "pygments_lexer": "ipython3",
   "version": "3.8.3"
  }
 },
 "nbformat": 4,
 "nbformat_minor": 4
}
